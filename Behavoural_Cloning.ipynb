{
  "nbformat": 4,
  "nbformat_minor": 0,
  "metadata": {
    "colab": {
      "name": "Behavoural_Cloning.ipynb",
      "version": "0.3.2",
      "provenance": [],
      "collapsed_sections": [],
      "toc_visible": true,
      "include_colab_link": true
    },
    "kernelspec": {
      "name": "python3",
      "display_name": "Python 3"
    }
  },
  "cells": [
    {
      "cell_type": "markdown",
      "metadata": {
        "id": "view-in-github",
        "colab_type": "text"
      },
      "source": [
        "<a href=\"https://colab.research.google.com/github/DrDumbenstein/Behavioural-Clonning-Self-driving-car/blob/master/Behavoural_Cloning.ipynb\" target=\"_parent\"><img src=\"https://colab.research.google.com/assets/colab-badge.svg\" alt=\"Open In Colab\"/></a>"
      ]
    },
    {
      "cell_type": "code",
      "metadata": {
        "id": "dg8z9-EsLpRz",
        "colab_type": "code",
        "colab": {}
      },
      "source": [
        "!git clone https://github.com/DrDumbenstein/Behavioural-Clonning-Self-driving-car\n"
      ],
      "execution_count": 0,
      "outputs": []
    },
    {
      "cell_type": "code",
      "metadata": {
        "id": "vyiUHojMQllO",
        "colab_type": "code",
        "colab": {}
      },
      "source": [
        "!pip3 install imgaug"
      ],
      "execution_count": 0,
      "outputs": []
    },
    {
      "cell_type": "code",
      "metadata": {
        "id": "4OeUyaERMD7j",
        "colab_type": "code",
        "colab": {}
      },
      "source": [
        "import os\n",
        "import numpy as np\n",
        "import matplotlib.pyplot as plt\n",
        "import matplotlib.image as npimg\n",
        "from keras.models import Sequential\n",
        "from keras.layers import Dense, Convolution2D, MaxPooling2D, Flatten, Dropout\n",
        "from sklearn.utils import shuffle \n",
        "from sklearn.model_selection import train_test_split\n",
        "from keras.optimizers import Adam\n",
        "from imgaug import augmenters as iaa\n",
        "import cv2\n",
        "import pandas as pd\n",
        "import ntpath\n",
        "import random"
      ],
      "execution_count": 0,
      "outputs": []
    },
    {
      "cell_type": "code",
      "metadata": {
        "id": "7LBEV3tSM3mb",
        "colab_type": "code",
        "colab": {}
      },
      "source": [
        "datadir = \"Behavioural-Clonning-Self-driving-car\"\n",
        "colums = ['center', 'left', 'right', 'steering', 'throttle', 'reverse', 'speed']\n",
        "data = pd.read_csv(os.path.join(datadir, 'driving_log.csv'), names = colums)\n",
        "pd.set_option('display.max_colwidth', -1)\n",
        "data.head()"
      ],
      "execution_count": 0,
      "outputs": []
    },
    {
      "cell_type": "code",
      "metadata": {
        "id": "Xh7ScOOofNb-",
        "colab_type": "code",
        "colab": {}
      },
      "source": [
        "def path_leaf(path):\n",
        "  head, tail = ntpath.split(path)\n",
        "  return tail\n",
        "\n",
        "data['center'] = data['center'].apply(path_leaf)\n",
        "data['left'] = data['left'].apply(path_leaf)\n",
        "data['right'] = data['right'].apply(path_leaf)\n",
        "\n",
        "data.head()\n",
        "\n"
      ],
      "execution_count": 0,
      "outputs": []
    },
    {
      "cell_type": "code",
      "metadata": {
        "id": "Mm3JBNNMhGuM",
        "colab_type": "code",
        "colab": {}
      },
      "source": [
        "num_bins = 25\n",
        "samples_per_bin = 3000\n",
        "hist, bins = np.histogram(data['steering'], num_bins)\n",
        "center = (bins[:-1]+bins[1:]) * 0.2\n",
        "plt.bar(center, hist, width = 0.02)\n",
        "plt.plot((np.min(data['steering']), np.max(data['steering'])), (samples_per_bin, samples_per_bin))"
      ],
      "execution_count": 0,
      "outputs": []
    },
    {
      "cell_type": "code",
      "metadata": {
        "id": "P_dlY45biQra",
        "colab_type": "code",
        "colab": {}
      },
      "source": [
        "print('total data:', len(data))\n",
        "remove_list = []\n",
        "for j in range(num_bins):\n",
        "  list_ = []\n",
        "  \n",
        "  for i in range(len(data['steering'])):\n",
        "    if data['steering'][i] >= bins[j] and data['steering'][i] <= bins[j+1]:\n",
        "      list_.append(i)\n",
        "  list_ = shuffle(list_)\n",
        "  list_ = list_[samples_per_bin:]\n",
        "  remove_list.extend(list_)\n",
        " \n",
        "print('removed', len(remove_list))\n",
        "data.drop(data.index[remove_list], inplace = True)\n",
        "print('remaining:', len(data))\n",
        "\n",
        "hist, _ = np.histogram(data['steering'], (num_bins))\n",
        "plt.bar(center, hist, width = 0.05)\n",
        "plt.plot((np.min(data['steering']), np.max(data['steering'])), (samples_per_bin, samples_per_bin))\n"
      ],
      "execution_count": 0,
      "outputs": []
    },
    {
      "cell_type": "code",
      "metadata": {
        "id": "lHZkUrnQpXhv",
        "colab_type": "code",
        "colab": {}
      },
      "source": [
        "print(data.iloc[1])\n",
        "def load_img_steering(datadir, df):\n",
        "  image_path = []\n",
        "  steering = []\n",
        "  for i in range(len(data)):\n",
        "    indexed_data = data.iloc[i]\n",
        "    center, left, right = indexed_data[0], indexed_data[1], indexed_data[2] \n",
        "    image_path.append(os.path.join(datadir, center.strip()))\n",
        "    steering.append(float(indexed_data[3]))\n",
        "  image_paths = np.asarray(image_path)\n",
        "  steerings = np.asarray(steering)\n",
        "  return image_paths, steerings\n",
        "\n",
        "image_paths, steerings = load_img_steering(datadir + '/IMG', data)\n",
        "  \n",
        "    \n",
        "    "
      ],
      "execution_count": 0,
      "outputs": []
    },
    {
      "cell_type": "code",
      "metadata": {
        "id": "JClsdZW9W4eF",
        "colab_type": "code",
        "colab": {}
      },
      "source": [
        "X_train, X_valid, y_train, y_valid = train_test_split(image_paths, steerings, test_size = 0.2, random_state = 6)\n",
        "print('Training Samples: {} \\nValid Samples: {}'.format(len(X_train), len(X_valid)))"
      ],
      "execution_count": 0,
      "outputs": []
    },
    {
      "cell_type": "code",
      "metadata": {
        "id": "qIeUePzMcxAE",
        "colab_type": "code",
        "colab": {}
      },
      "source": [
        "fig, axes = plt.subplots(1, 2, figsize = (12, 4))\n",
        "axes[0].hist(y_train, bins = num_bins, width = 0.05, color = 'blue')\n",
        "axes[0].set_title('Training set')\n",
        "axes[1].hist(y_valid, bins = num_bins, width = 0.05, color = 'red')\n",
        "axes[1].set_title('Validation set')"
      ],
      "execution_count": 0,
      "outputs": []
    },
    {
      "cell_type": "code",
      "metadata": {
        "id": "6cbsjwusRMu6",
        "colab_type": "code",
        "colab": {}
      },
      "source": [
        "def zoom(image):\n",
        "  zoom = iaa.Affine(scale =(1, 1.3))\n",
        "  image = zoom.augment_image(image)\n",
        "  return image"
      ],
      "execution_count": 0,
      "outputs": []
    },
    {
      "cell_type": "code",
      "metadata": {
        "id": "4dWE15QwSHH2",
        "colab_type": "code",
        "colab": {}
      },
      "source": [
        "image = image_paths[random.randint(0, 1000)]\n",
        "original_image = npimg.imread(image)\n",
        "zoomed_image = zoom(original_image)\n",
        "\n",
        "fig, axs = plt.subplots(1,2, figsize = (15, 10))\n",
        "fig.tight_layout()\n",
        "axs[0].imshow(original_image)\n",
        "axs[0].set_title('Original')\n",
        "axs[1].imshow(zoomed_image)\n",
        "axs[1].set_title('zoomed_image')"
      ],
      "execution_count": 0,
      "outputs": []
    },
    {
      "cell_type": "code",
      "metadata": {
        "id": "mpN7sXx9Uk6J",
        "colab_type": "code",
        "colab": {}
      },
      "source": [
        "def pan(image):\n",
        "  pan = iaa.Affine(translate_percent = {\"x\" : (-0.1, 0.1), \"y\" : (-0.1, 0.1)})\n",
        "  image = pan.augment_image(image)\n",
        "  return image"
      ],
      "execution_count": 0,
      "outputs": []
    },
    {
      "cell_type": "code",
      "metadata": {
        "id": "05Iyx-07VLT0",
        "colab_type": "code",
        "colab": {}
      },
      "source": [
        "image = image_paths[random.randint(0, 1000)]\n",
        "original_image = npimg.imread(image)\n",
        "panned_image = pan(original_image)\n",
        "\n",
        "fig, axs = plt.subplots(1,2, figsize = (15, 10))\n",
        "fig.tight_layout()\n",
        "axs[0].imshow(original_image)\n",
        "axs[0].set_title('Original')\n",
        "axs[1].imshow(panned_image)\n",
        "axs[1].set_title('panned_image')"
      ],
      "execution_count": 0,
      "outputs": []
    },
    {
      "cell_type": "code",
      "metadata": {
        "id": "fW4H1zMMWRRM",
        "colab_type": "code",
        "colab": {}
      },
      "source": [
        "def img_random_brightness(image):\n",
        "  brightness = iaa.Multiply((0.2, 1.2))\n",
        "  image = brightness.augment_image(image)\n",
        "  return image\n",
        "  "
      ],
      "execution_count": 0,
      "outputs": []
    },
    {
      "cell_type": "code",
      "metadata": {
        "id": "bWQ32PZAXZb2",
        "colab_type": "code",
        "colab": {}
      },
      "source": [
        "image = image_paths[random.randint(0, 1000)]\n",
        "original_image = npimg.imread(image)\n",
        "brightness_image = img_random_brightness(original_image)\n",
        "fig, axs = plt.subplots(1,2, figsize = (15, 10))\n",
        "fig.tight_layout()\n",
        "axs[0].imshow(original_image)\n",
        "axs[0].set_title('Original')\n",
        "axs[1].imshow(brightness_image)\n",
        "axs[1].set_title('brightness_altered_image')"
      ],
      "execution_count": 0,
      "outputs": []
    },
    {
      "cell_type": "code",
      "metadata": {
        "id": "2lg9bUxNXZqq",
        "colab_type": "code",
        "colab": {}
      },
      "source": [
        "def img_random_flip(image, steering_angle):\n",
        "  image = cv2.flip(image, 1)\n",
        "  steering_angle = - steering_angle\n",
        "  return image, steering_angle\n",
        "   "
      ],
      "execution_count": 0,
      "outputs": []
    },
    {
      "cell_type": "code",
      "metadata": {
        "id": "ybMnincecr9R",
        "colab_type": "code",
        "colab": {}
      },
      "source": [
        "random_index = random.randint(0, 1000)\n",
        "image = image_paths[random_index]\n",
        "steering_angle = steerings[random_index]\n",
        "\n",
        "original_image = npimg.imread(image)\n",
        "flipped_image,flipped_steering_angle = img_random_flip(original_image, steering_angle)\n",
        "fig, axs = plt.subplots(1,2, figsize = (15, 10))\n",
        "fig.tight_layout()\n",
        "axs[0].imshow(original_image)\n",
        "axs[0].set_title('Original' + str(steering_angle))\n",
        "axs[1].imshow(flipped_image)\n",
        "axs[1].set_title('flipped_image' + str(flipped_steering_angle))"
      ],
      "execution_count": 0,
      "outputs": []
    },
    {
      "cell_type": "code",
      "metadata": {
        "id": "dapfZcYoe8if",
        "colab_type": "code",
        "colab": {}
      },
      "source": [
        "def random_augment(image, steering_angle):\n",
        "  image = npimg.imread(image)\n",
        "  \n",
        "  if np.random.rand() < 0.5 :\n",
        "    image = pan(image)\n",
        "  if np.random.rand() < 0.5 :\n",
        "    image = zoom(image)\n",
        "  if np.random.rand() < 0.5 :\n",
        "    image = img_random_brightness(image)\n",
        "  if np.random.rand() < 0.5 :\n",
        "    image, steering_angle = img_random_flip(image, steering_angle)\n",
        "  return image, steering_angle\n",
        "  "
      ],
      "execution_count": 0,
      "outputs": []
    },
    {
      "cell_type": "code",
      "metadata": {
        "id": "HcMjFj1GgNTW",
        "colab_type": "code",
        "colab": {}
      },
      "source": [
        "ncol = 2\n",
        "nrow = 10\n",
        "fig, axs = plt.subplots(nrow, ncol, figsize = (15, 50))\n",
        "fig.tight_layout()\n",
        "\n",
        "for i in range(10):\n",
        "  randnum = random.randint(0, len(image_paths) - 1)\n",
        "  random_image = image_paths[randnum]\n",
        "  random_steering = steerings[randnum]\n",
        "  \n",
        "  original_image = npimg.imread(random_image)\n",
        "  augmented_image, steering = random_augment(random_image, random_steering)\n",
        "  \n",
        "  axs[i][0].imshow(original_image)\n",
        "  axs[i][0].set_title('original image')\n",
        "  axs[i][1].imshow(augmented_image)\n",
        "  axs[i][1].set_title('augmented image')\n",
        "  \n",
        "  "
      ],
      "execution_count": 0,
      "outputs": []
    },
    {
      "cell_type": "code",
      "metadata": {
        "id": "XJ3_MSDGfkds",
        "colab_type": "code",
        "colab": {}
      },
      "source": [
        "def image_preprocess(img):\n",
        "  \n",
        "  img = img[60:135,:,:]\n",
        "  img = cv2.cvtColor(img, cv2.COLOR_RGB2YUV)\n",
        "  img = cv2.GaussianBlur(img, (3,3), 0)\n",
        "  img = cv2.resize(img, (200, 66))\n",
        "  img = img/255\n",
        "  return img\n",
        "  "
      ],
      "execution_count": 0,
      "outputs": []
    },
    {
      "cell_type": "code",
      "metadata": {
        "id": "v1gTyi8JhcWf",
        "colab_type": "code",
        "colab": {}
      },
      "source": [
        "image = image_paths[100]\n",
        "original_image = npimg.imread(image)\n",
        "preprocessed_image = image_preprocess(original_image)\n",
        "\n",
        "fig, axs = plt.subplots(1, 2, figsize = (15, 10))\n",
        "fig.tight_layout()\n",
        "axs[0].imshow(original_image)\n",
        "axs[0].set_title('original_image')\n",
        "axs[1].imshow(preprocessed_image)\n",
        "axs[1].set_title('preprossed image')\n"
      ],
      "execution_count": 0,
      "outputs": []
    },
    {
      "cell_type": "code",
      "metadata": {
        "id": "K81ko_MDlOz0",
        "colab_type": "code",
        "colab": {}
      },
      "source": [
        "def batch_generator(image_paths, steering_ang, batch_size, istraining):\n",
        "  while True:\n",
        "    batch_img = []\n",
        "    batch_steering = []\n",
        "    \n",
        "    for i in range(batch_size):\n",
        "      random_index = random.randint(0, len(image_paths) - 1)\n",
        "      \n",
        "      if istraining:\n",
        "        im, steering = random_augment(image_paths[random_index], steering_ang[random_index])\n",
        "      else:\n",
        "        im = npimg.imread(image_paths[random_index])\n",
        "        steering = steering_ang[random_index]\n",
        "        \n",
        "      im =  image_preprocess(im)\n",
        "      batch_img.append(im)\n",
        "      batch_steering.append(steering)\n",
        "    yield (np.asarray(batch_img), np.asarray(batch_steering))\n",
        "      \n",
        "    \n",
        "       "
      ],
      "execution_count": 0,
      "outputs": []
    },
    {
      "cell_type": "code",
      "metadata": {
        "id": "_25z0RiopW7U",
        "colab_type": "code",
        "colab": {}
      },
      "source": [
        "X_train_gen, y_train_gen = next(batch_generator(X_train, y_train, 1, 1))\n",
        "X_valid_gen, y_valid_gen = next(batch_generator(X_valid, y_valid, 1, 0))\n",
        "\n",
        "fig, axs = plt.subplots(1,2, figsize = (15, 10))\n",
        "fig.tight_layout()\n",
        "axs[0].imshow(X_train_gen[0])\n",
        "axs[0].set_title('Training image')\n",
        "axs[1].imshow(X_valid_gen[0])\n",
        "axs[1].set_title('Validaion image')"
      ],
      "execution_count": 0,
      "outputs": []
    },
    {
      "cell_type": "code",
      "metadata": {
        "id": "kEdiDaD9m6F9",
        "colab_type": "code",
        "colab": {}
      },
      "source": [
        "def nvidia_model():\n",
        "  model = Sequential()\n",
        "  model.add(Convolution2D(24, (5, 5), subsample = (2,2), input_shape = (66, 200, 3), activation = 'elu'))\n",
        "  model.add(Convolution2D(36, (5, 5), subsample = (2,2), activation = 'elu'))\n",
        "  model.add(Convolution2D(48, (5, 5), subsample = (2,2), activation = 'elu'))\n",
        "  model.add(Convolution2D(64, (3, 3), activation = 'elu'))\n",
        "  model.add(Convolution2D(64, (3, 3), activation = 'elu'))\n",
        "  \n",
        "  \n",
        "  model.add(Flatten())\n",
        "  model.add(Dense(100, activation = 'elu'))\n",
        "  \n",
        "  \n",
        "  model.add(Dense(50, activation = 'elu'))\n",
        " \n",
        "  \n",
        "  model.add(Dense(10, activation = 'elu'))\n",
        "   \n",
        "  \n",
        "  model.add(Dense(1))\n",
        "  \n",
        "  optimizer = Adam(lr = 1e-4)\n",
        "  model.compile(loss = 'mse', optimizer = optimizer)\n",
        "  return model"
      ],
      "execution_count": 0,
      "outputs": []
    },
    {
      "cell_type": "code",
      "metadata": {
        "id": "hDTJGI_askp5",
        "colab_type": "code",
        "colab": {}
      },
      "source": [
        "model = nvidia_model()\n",
        "print(model.summary())"
      ],
      "execution_count": 0,
      "outputs": []
    },
    {
      "cell_type": "code",
      "metadata": {
        "id": "7fmruAU1tnCE",
        "colab_type": "code",
        "outputId": "deb65936-5a32-45de-fa75-d715ed2e37aa",
        "colab": {
          "base_uri": "https://localhost:8080/",
          "height": 446
        }
      },
      "source": [
        "history = model.fit_generator(batch_generator(X_train, y_train, batch_size = 100, istraining = 1), steps_per_epoch = 300, epochs = 10, validation_data = batch_generator(X_valid, y_valid, batch_size = 100, istraining = 0), validation_steps = 200, verbose = 1, shuffle = 1 )"
      ],
      "execution_count": 0,
      "outputs": [
        {
          "output_type": "stream",
          "text": [
            "WARNING:tensorflow:From /usr/local/lib/python3.6/dist-packages/tensorflow/python/ops/math_ops.py:3066: to_int32 (from tensorflow.python.ops.math_ops) is deprecated and will be removed in a future version.\n",
            "Instructions for updating:\n",
            "Use tf.cast instead.\n",
            "Epoch 1/10\n",
            "300/300 [==============================] - 464s 2s/step - loss: 0.0851 - val_loss: 0.0788\n",
            "Epoch 2/10\n",
            "300/300 [==============================] - 458s 2s/step - loss: 0.0799 - val_loss: 0.0749\n",
            "Epoch 3/10\n",
            "300/300 [==============================] - 456s 2s/step - loss: 0.0719 - val_loss: 0.0637\n",
            "Epoch 4/10\n",
            "300/300 [==============================] - 456s 2s/step - loss: 0.0636 - val_loss: 0.0601\n",
            "Epoch 5/10\n",
            "300/300 [==============================] - 457s 2s/step - loss: 0.0613 - val_loss: 0.0598\n",
            "Epoch 6/10\n",
            "300/300 [==============================] - 459s 2s/step - loss: 0.0591 - val_loss: 0.0538\n",
            "Epoch 7/10\n",
            "300/300 [==============================] - 459s 2s/step - loss: 0.0568 - val_loss: 0.0563\n",
            "Epoch 8/10\n",
            "300/300 [==============================] - 458s 2s/step - loss: 0.0548 - val_loss: 0.0491\n",
            "Epoch 9/10\n",
            "300/300 [==============================] - 454s 2s/step - loss: 0.0528 - val_loss: 0.0492\n",
            "Epoch 10/10\n",
            "300/300 [==============================] - 455s 2s/step - loss: 0.0508 - val_loss: 0.0483\n"
          ],
          "name": "stdout"
        }
      ]
    },
    {
      "cell_type": "code",
      "metadata": {
        "id": "QuQMpojKvy7l",
        "colab_type": "code",
        "outputId": "a55a8b9e-9f8e-4011-d9c3-be2f9c9ca337",
        "colab": {
          "base_uri": "https://localhost:8080/",
          "height": 313
        }
      },
      "source": [
        "plt.plot(history.history['loss'])\n",
        "plt.plot(history.history['val_loss'])\n",
        "plt.legend(['Training', 'Validation'])\n",
        "plt.title('loss')\n",
        "plt.xlabel('epochs')"
      ],
      "execution_count": 0,
      "outputs": [
        {
          "output_type": "execute_result",
          "data": {
            "text/plain": [
              "Text(0.5, 0, 'epochs')"
            ]
          },
          "metadata": {
            "tags": []
          },
          "execution_count": 28
        },
        {
          "output_type": "display_data",
          "data": {
            "image/png": "[encoded data removed]",
            "text/plain": [
              "<Figure size 432x288 with 1 Axes>"
            ]
          },
          "metadata": {
            "tags": []
          }
        }
      ]
    },
    {
      "cell_type": "code",
      "metadata": {
        "id": "4Z1KQkqNw9pV",
        "colab_type": "code",
        "colab": {}
      },
      "source": [
        "model.save('model.h5')\n"
      ],
      "execution_count": 0,
      "outputs": []
    },
    {
      "cell_type": "code",
      "metadata": {
        "id": "Dqhtb0bJ2gxC",
        "colab_type": "code",
        "colab": {}
      },
      "source": [
        " from google.colab import files\n",
        " files.download('model.h5')"
      ],
      "execution_count": 0,
      "outputs": []
    },
    {
      "cell_type": "code",
      "metadata": {
        "id": "n8kr88kD25xX",
        "colab_type": "code",
        "colab": {}
      },
      "source": [
        ""
      ],
      "execution_count": 0,
      "outputs": []
    }
  ]
}